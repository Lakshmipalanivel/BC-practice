{
 "cells": [
  {
   "cell_type": "code",
   "execution_count": 89,
   "id": "9db3eb17",
   "metadata": {},
   "outputs": [],
   "source": [
    "import pandas as pd\n",
    "import matplotlib.pyplot as plt\n",
    "columns=['SCN','CT','UCSI','UCSH','MA','SECS','BN','BC','NN','Mit','Class']"
   ]
  },
  {
   "cell_type": "code",
   "execution_count": 90,
   "id": "a39924ca",
   "metadata": {},
   "outputs": [],
   "source": [
    "bc=pd.read_csv(\"file:///C:/Users/WIN%2010/Downloads/breast-cancer-wisconsin.data\",header=1,names=columns,na_values='?')"
   ]
  },
  {
   "cell_type": "code",
   "execution_count": 91,
   "id": "685ddfe5",
   "metadata": {},
   "outputs": [
    {
     "data": {
      "text/html": [
       "<div>\n",
       "<style scoped>\n",
       "    .dataframe tbody tr th:only-of-type {\n",
       "        vertical-align: middle;\n",
       "    }\n",
       "\n",
       "    .dataframe tbody tr th {\n",
       "        vertical-align: top;\n",
       "    }\n",
       "\n",
       "    .dataframe thead th {\n",
       "        text-align: right;\n",
       "    }\n",
       "</style>\n",
       "<table border=\"1\" class=\"dataframe\">\n",
       "  <thead>\n",
       "    <tr style=\"text-align: right;\">\n",
       "      <th></th>\n",
       "      <th>SCN</th>\n",
       "      <th>CT</th>\n",
       "      <th>UCSI</th>\n",
       "      <th>UCSH</th>\n",
       "      <th>MA</th>\n",
       "      <th>SECS</th>\n",
       "      <th>BN</th>\n",
       "      <th>BC</th>\n",
       "      <th>NN</th>\n",
       "      <th>Mit</th>\n",
       "      <th>Class</th>\n",
       "    </tr>\n",
       "  </thead>\n",
       "  <tbody>\n",
       "    <tr>\n",
       "      <th>0</th>\n",
       "      <td>1015425</td>\n",
       "      <td>3</td>\n",
       "      <td>1</td>\n",
       "      <td>1</td>\n",
       "      <td>1</td>\n",
       "      <td>2</td>\n",
       "      <td>2.0</td>\n",
       "      <td>3</td>\n",
       "      <td>1</td>\n",
       "      <td>1</td>\n",
       "      <td>2</td>\n",
       "    </tr>\n",
       "    <tr>\n",
       "      <th>1</th>\n",
       "      <td>1016277</td>\n",
       "      <td>6</td>\n",
       "      <td>8</td>\n",
       "      <td>8</td>\n",
       "      <td>1</td>\n",
       "      <td>3</td>\n",
       "      <td>4.0</td>\n",
       "      <td>3</td>\n",
       "      <td>7</td>\n",
       "      <td>1</td>\n",
       "      <td>2</td>\n",
       "    </tr>\n",
       "    <tr>\n",
       "      <th>2</th>\n",
       "      <td>1017023</td>\n",
       "      <td>4</td>\n",
       "      <td>1</td>\n",
       "      <td>1</td>\n",
       "      <td>3</td>\n",
       "      <td>2</td>\n",
       "      <td>1.0</td>\n",
       "      <td>3</td>\n",
       "      <td>1</td>\n",
       "      <td>1</td>\n",
       "      <td>2</td>\n",
       "    </tr>\n",
       "    <tr>\n",
       "      <th>3</th>\n",
       "      <td>1017122</td>\n",
       "      <td>8</td>\n",
       "      <td>10</td>\n",
       "      <td>10</td>\n",
       "      <td>8</td>\n",
       "      <td>7</td>\n",
       "      <td>10.0</td>\n",
       "      <td>9</td>\n",
       "      <td>7</td>\n",
       "      <td>1</td>\n",
       "      <td>4</td>\n",
       "    </tr>\n",
       "    <tr>\n",
       "      <th>4</th>\n",
       "      <td>1018099</td>\n",
       "      <td>1</td>\n",
       "      <td>1</td>\n",
       "      <td>1</td>\n",
       "      <td>1</td>\n",
       "      <td>2</td>\n",
       "      <td>10.0</td>\n",
       "      <td>3</td>\n",
       "      <td>1</td>\n",
       "      <td>1</td>\n",
       "      <td>2</td>\n",
       "    </tr>\n",
       "    <tr>\n",
       "      <th>5</th>\n",
       "      <td>1018561</td>\n",
       "      <td>2</td>\n",
       "      <td>1</td>\n",
       "      <td>2</td>\n",
       "      <td>1</td>\n",
       "      <td>2</td>\n",
       "      <td>1.0</td>\n",
       "      <td>3</td>\n",
       "      <td>1</td>\n",
       "      <td>1</td>\n",
       "      <td>2</td>\n",
       "    </tr>\n",
       "    <tr>\n",
       "      <th>6</th>\n",
       "      <td>1033078</td>\n",
       "      <td>2</td>\n",
       "      <td>1</td>\n",
       "      <td>1</td>\n",
       "      <td>1</td>\n",
       "      <td>2</td>\n",
       "      <td>1.0</td>\n",
       "      <td>1</td>\n",
       "      <td>1</td>\n",
       "      <td>5</td>\n",
       "      <td>2</td>\n",
       "    </tr>\n",
       "    <tr>\n",
       "      <th>7</th>\n",
       "      <td>1033078</td>\n",
       "      <td>4</td>\n",
       "      <td>2</td>\n",
       "      <td>1</td>\n",
       "      <td>1</td>\n",
       "      <td>2</td>\n",
       "      <td>1.0</td>\n",
       "      <td>2</td>\n",
       "      <td>1</td>\n",
       "      <td>1</td>\n",
       "      <td>2</td>\n",
       "    </tr>\n",
       "    <tr>\n",
       "      <th>8</th>\n",
       "      <td>1035283</td>\n",
       "      <td>1</td>\n",
       "      <td>1</td>\n",
       "      <td>1</td>\n",
       "      <td>1</td>\n",
       "      <td>1</td>\n",
       "      <td>1.0</td>\n",
       "      <td>3</td>\n",
       "      <td>1</td>\n",
       "      <td>1</td>\n",
       "      <td>2</td>\n",
       "    </tr>\n",
       "    <tr>\n",
       "      <th>9</th>\n",
       "      <td>1036172</td>\n",
       "      <td>2</td>\n",
       "      <td>1</td>\n",
       "      <td>1</td>\n",
       "      <td>1</td>\n",
       "      <td>2</td>\n",
       "      <td>1.0</td>\n",
       "      <td>2</td>\n",
       "      <td>1</td>\n",
       "      <td>1</td>\n",
       "      <td>2</td>\n",
       "    </tr>\n",
       "  </tbody>\n",
       "</table>\n",
       "</div>"
      ],
      "text/plain": [
       "       SCN  CT  UCSI  UCSH  MA  SECS    BN  BC  NN  Mit  Class\n",
       "0  1015425   3     1     1   1     2   2.0   3   1    1      2\n",
       "1  1016277   6     8     8   1     3   4.0   3   7    1      2\n",
       "2  1017023   4     1     1   3     2   1.0   3   1    1      2\n",
       "3  1017122   8    10    10   8     7  10.0   9   7    1      4\n",
       "4  1018099   1     1     1   1     2  10.0   3   1    1      2\n",
       "5  1018561   2     1     2   1     2   1.0   3   1    1      2\n",
       "6  1033078   2     1     1   1     2   1.0   1   1    5      2\n",
       "7  1033078   4     2     1   1     2   1.0   2   1    1      2\n",
       "8  1035283   1     1     1   1     1   1.0   3   1    1      2\n",
       "9  1036172   2     1     1   1     2   1.0   2   1    1      2"
      ]
     },
     "execution_count": 91,
     "metadata": {},
     "output_type": "execute_result"
    }
   ],
   "source": [
    "bc.head(10)"
   ]
  },
  {
   "cell_type": "code",
   "execution_count": 92,
   "id": "c4dddceb",
   "metadata": {},
   "outputs": [],
   "source": [
    "columns=['SCN','CT','UCSI','UCSH','MA','SECS','BN','BC','NN','Mit','Class']"
   ]
  },
  {
   "cell_type": "code",
   "execution_count": 93,
   "id": "fe2633d5",
   "metadata": {},
   "outputs": [],
   "source": [
    "bc.BN.fillna(bc.BN.mean(),inplace=True)"
   ]
  },
  {
   "cell_type": "code",
   "execution_count": 94,
   "id": "bd84c87b",
   "metadata": {},
   "outputs": [
    {
     "data": {
      "text/plain": [
       "0"
      ]
     },
     "execution_count": 94,
     "metadata": {},
     "output_type": "execute_result"
    }
   ],
   "source": [
    "bc.BN.isnull().sum()"
   ]
  },
  {
   "cell_type": "code",
   "execution_count": 95,
   "id": "cdce70c6",
   "metadata": {},
   "outputs": [
    {
     "data": {
      "text/plain": [
       "SCN      0\n",
       "CT       0\n",
       "UCSI     0\n",
       "UCSH     0\n",
       "MA       0\n",
       "SECS     0\n",
       "BN       0\n",
       "BC       0\n",
       "NN       0\n",
       "Mit      0\n",
       "Class    0\n",
       "dtype: int64"
      ]
     },
     "execution_count": 95,
     "metadata": {},
     "output_type": "execute_result"
    }
   ],
   "source": [
    "bc.isnull().sum()"
   ]
  },
  {
   "cell_type": "code",
   "execution_count": 32,
   "id": "f458968b",
   "metadata": {},
   "outputs": [
    {
     "data": {
      "text/plain": [
       "SCN      0\n",
       "CT       0\n",
       "UCSI     0\n",
       "UCSH     0\n",
       "MA       0\n",
       "SECS     0\n",
       "BN       0\n",
       "BC       0\n",
       "NN       0\n",
       "Mit      0\n",
       "Class    0\n",
       "dtype: int64"
      ]
     },
     "execution_count": 32,
     "metadata": {},
     "output_type": "execute_result"
    }
   ],
   "source": [
    "bc.isnull().sum()"
   ]
  },
  {
   "cell_type": "code",
   "execution_count": 96,
   "id": "cbb354a3",
   "metadata": {},
   "outputs": [
    {
     "data": {
      "text/plain": [
       "array([ 2.        ,  4.        ,  1.        , 10.        ,  3.        ,\n",
       "        9.        ,  7.        ,  3.53891336,  5.        ,  8.        ,\n",
       "        6.        ])"
      ]
     },
     "execution_count": 96,
     "metadata": {},
     "output_type": "execute_result"
    }
   ],
   "source": [
    "bc.BN.unique()"
   ]
  },
  {
   "cell_type": "code",
   "execution_count": 97,
   "id": "da4cf57b",
   "metadata": {},
   "outputs": [
    {
     "data": {
      "text/plain": [
       "{'whiskers': [<matplotlib.lines.Line2D at 0x1de7c23f880>,\n",
       "  <matplotlib.lines.Line2D at 0x1de7c23fc10>],\n",
       " 'caps': [<matplotlib.lines.Line2D at 0x1de7c23ffa0>,\n",
       "  <matplotlib.lines.Line2D at 0x1de7c24e370>],\n",
       " 'boxes': [<matplotlib.lines.Line2D at 0x1de7c23f4f0>],\n",
       " 'medians': [<matplotlib.lines.Line2D at 0x1de7c24e700>],\n",
       " 'fliers': [<matplotlib.lines.Line2D at 0x1de7c24ea90>],\n",
       " 'means': []}"
      ]
     },
     "execution_count": 97,
     "metadata": {},
     "output_type": "execute_result"
    },
    {
     "data": {
      "image/png": "[encoded data removed]",
      "text/plain": [
       "<Figure size 432x288 with 1 Axes>"
      ]
     },
     "metadata": {
      "needs_background": "light"
     },
     "output_type": "display_data"
    }
   ],
   "source": [
    "plt.boxplot(bc.BN)"
   ]
  },
  {
   "cell_type": "code",
   "execution_count": 46,
   "id": "f22efd75",
   "metadata": {},
   "outputs": [
    {
     "data": {
      "text/plain": [
       "{'whiskers': [<matplotlib.lines.Line2D at 0x1de796ebdf0>,\n",
       "  <matplotlib.lines.Line2D at 0x1de7a6cc1c0>],\n",
       " 'caps': [<matplotlib.lines.Line2D at 0x1de7a6cc550>,\n",
       "  <matplotlib.lines.Line2D at 0x1de7a6cc8e0>],\n",
       " 'boxes': [<matplotlib.lines.Line2D at 0x1de796eba60>],\n",
       " 'medians': [<matplotlib.lines.Line2D at 0x1de7a6ccc70>],\n",
       " 'fliers': [<matplotlib.lines.Line2D at 0x1de7a6d6040>],\n",
       " 'means': []}"
      ]
     },
     "execution_count": 46,
     "metadata": {},
     "output_type": "execute_result"
    },
    {
     "data": {
      "image/png": "[encoded data removed]",
      "text/plain": [
       "<Figure size 432x288 with 1 Axes>"
      ]
     },
     "metadata": {
      "needs_background": "light"
     },
     "output_type": "display_data"
    }
   ],
   "source": [
    "plt.boxplot(bc.MA)"
   ]
  },
  {
   "cell_type": "code",
   "execution_count": 98,
   "id": "2eb975ae",
   "metadata": {},
   "outputs": [
    {
     "data": {
      "text/plain": [
       "count    697.000000\n",
       "mean       3.538913\n",
       "std        3.597417\n",
       "min        1.000000\n",
       "25%        1.000000\n",
       "50%        1.000000\n",
       "75%        5.000000\n",
       "max       10.000000\n",
       "Name: BN, dtype: float64"
      ]
     },
     "execution_count": 98,
     "metadata": {},
     "output_type": "execute_result"
    }
   ],
   "source": [
    "bc.BN.describe()"
   ]
  },
  {
   "cell_type": "code",
   "execution_count": 99,
   "id": "359857f1",
   "metadata": {},
   "outputs": [
    {
     "name": "stdout",
     "output_type": "stream",
     "text": [
      "<class 'pandas.core.frame.DataFrame'>\n",
      "RangeIndex: 697 entries, 0 to 696\n",
      "Data columns (total 11 columns):\n",
      " #   Column  Non-Null Count  Dtype  \n",
      "---  ------  --------------  -----  \n",
      " 0   SCN     697 non-null    int64  \n",
      " 1   CT      697 non-null    int64  \n",
      " 2   UCSI    697 non-null    int64  \n",
      " 3   UCSH    697 non-null    int64  \n",
      " 4   MA      697 non-null    int64  \n",
      " 5   SECS    697 non-null    int64  \n",
      " 6   BN      697 non-null    float64\n",
      " 7   BC      697 non-null    int64  \n",
      " 8   NN      697 non-null    int64  \n",
      " 9   Mit     697 non-null    int64  \n",
      " 10  Class   697 non-null    int64  \n",
      "dtypes: float64(1), int64(10)\n",
      "memory usage: 60.0 KB\n"
     ]
    }
   ],
   "source": [
    "bc.info()"
   ]
  },
  {
   "cell_type": "code",
   "execution_count": 100,
   "id": "d6b296be",
   "metadata": {},
   "outputs": [],
   "source": [
    "x=bc[['SCN','CT','UCSI','UCSH','MA','SECS','BN','BC','NN','Class']]\n",
    "y=bc.Class"
   ]
  },
  {
   "cell_type": "code",
   "execution_count": 118,
   "id": "ad76581e",
   "metadata": {},
   "outputs": [],
   "source": [
    "x=bc.drop(\"Class\",axis=1)\n",
    "y=bc[\"Class\"]"
   ]
  },
  {
   "cell_type": "code",
   "execution_count": 101,
   "id": "6e7ba40e",
   "metadata": {},
   "outputs": [],
   "source": [
    "from sklearn.model_selection import train_test_split"
   ]
  },
  {
   "cell_type": "code",
   "execution_count": 102,
   "id": "7859ddef",
   "metadata": {},
   "outputs": [],
   "source": [
    "train_x,test_x,train_y,test_y=train_test_split(x,y,train_size=0.8,test_size=0.2,random_state=100)"
   ]
  },
  {
   "cell_type": "code",
   "execution_count": 103,
   "id": "bc745643",
   "metadata": {},
   "outputs": [
    {
     "data": {
      "text/plain": [
       "(557, 10)"
      ]
     },
     "execution_count": 103,
     "metadata": {},
     "output_type": "execute_result"
    }
   ],
   "source": [
    "train_x.shape"
   ]
  },
  {
   "cell_type": "code",
   "execution_count": 104,
   "id": "7c55d385",
   "metadata": {},
   "outputs": [
    {
     "data": {
      "text/plain": [
       "(557,)"
      ]
     },
     "execution_count": 104,
     "metadata": {},
     "output_type": "execute_result"
    }
   ],
   "source": [
    "train_y.shape"
   ]
  },
  {
   "cell_type": "code",
   "execution_count": 105,
   "id": "a2b6166f",
   "metadata": {},
   "outputs": [
    {
     "data": {
      "text/plain": [
       "(140, 10)"
      ]
     },
     "execution_count": 105,
     "metadata": {},
     "output_type": "execute_result"
    }
   ],
   "source": [
    "test_x.shape"
   ]
  },
  {
   "cell_type": "code",
   "execution_count": 106,
   "id": "39d696d3",
   "metadata": {},
   "outputs": [
    {
     "data": {
      "text/plain": [
       "(140,)"
      ]
     },
     "execution_count": 106,
     "metadata": {},
     "output_type": "execute_result"
    }
   ],
   "source": [
    "test_y.shape"
   ]
  },
  {
   "cell_type": "code",
   "execution_count": 107,
   "id": "90a2ae54",
   "metadata": {},
   "outputs": [],
   "source": [
    "from sklearn.linear_model import LogisticRegression"
   ]
  },
  {
   "cell_type": "code",
   "execution_count": 108,
   "id": "42b6ecf9",
   "metadata": {},
   "outputs": [],
   "source": [
    "model=LogisticRegression().fit(train_x,train_y)"
   ]
  },
  {
   "cell_type": "code",
   "execution_count": 109,
   "id": "23210ba7",
   "metadata": {},
   "outputs": [
    {
     "data": {
      "text/plain": [
       "0.6570915619389587"
      ]
     },
     "execution_count": 109,
     "metadata": {},
     "output_type": "execute_result"
    }
   ],
   "source": [
    "model.score(train_x,train_y)"
   ]
  },
  {
   "cell_type": "code",
   "execution_count": 110,
   "id": "13fb8da5",
   "metadata": {},
   "outputs": [
    {
     "data": {
      "text/plain": [
       "array([-3.47910955e-13])"
      ]
     },
     "execution_count": 110,
     "metadata": {},
     "output_type": "execute_result"
    }
   ],
   "source": [
    "model.intercept_"
   ]
  },
  {
   "cell_type": "code",
   "execution_count": 111,
   "id": "9c5dac23",
   "metadata": {},
   "outputs": [
    {
     "data": {
      "text/plain": [
       "array([[-6.59515663e-07,  2.16991195e-11,  2.66014398e-11,\n",
       "         2.60119219e-11,  2.17261936e-11,  1.50203554e-11,\n",
       "         3.27011115e-11,  1.95740318e-11,  2.32891767e-11,\n",
       "         9.89517235e-12]])"
      ]
     },
     "execution_count": 111,
     "metadata": {},
     "output_type": "execute_result"
    }
   ],
   "source": [
    "model.coef_"
   ]
  },
  {
   "cell_type": "code",
   "execution_count": 112,
   "id": "b25cbbf2",
   "metadata": {},
   "outputs": [],
   "source": [
    "predict_y=model.predict(train_x)"
   ]
  },
  {
   "cell_type": "code",
   "execution_count": 114,
   "id": "c7509d3e",
   "metadata": {},
   "outputs": [
    {
     "data": {
      "text/plain": [
       "array([[0.69300541, 0.30699459],\n",
       "       [0.6867876 , 0.3132124 ],\n",
       "       [0.6821831 , 0.3178169 ],\n",
       "       [0.55619062, 0.44380938],\n",
       "       [0.69177562, 0.30822438],\n",
       "       [0.68485439, 0.31514561],\n",
       "       [0.68827062, 0.31172938],\n",
       "       [0.69002691, 0.30997309],\n",
       "       [0.68393399, 0.31606601],\n",
       "       [0.68774937, 0.31225063],\n",
       "       [0.70075781, 0.29924219],\n",
       "       [0.59140515, 0.40859485],\n",
       "       [0.67502191, 0.32497809],\n",
       "       [0.70550418, 0.29449582],\n",
       "       [0.66827624, 0.33172376],\n",
       "       [0.69938063, 0.30061937],\n",
       "       [0.70428674, 0.29571326],\n",
       "       [0.69122185, 0.30877815],\n",
       "       [0.70487291, 0.29512709],\n",
       "       [0.61266013, 0.38733987],\n",
       "       [0.69025017, 0.30974983],\n",
       "       [0.67614157, 0.32385843],\n",
       "       [0.69400422, 0.30599578],\n",
       "       [0.7064247 , 0.2935753 ],\n",
       "       [0.70211013, 0.29788987],\n",
       "       [0.63801402, 0.36198598],\n",
       "       [0.69361697, 0.30638303],\n",
       "       [0.62423693, 0.37576307],\n",
       "       [0.66719388, 0.33280612],\n",
       "       [0.66827624, 0.33172376],\n",
       "       [0.66891674, 0.33108326],\n",
       "       [0.7019018 , 0.2980982 ],\n",
       "       [0.71152438, 0.28847562],\n",
       "       [0.6962362 , 0.3037638 ],\n",
       "       [0.57019998, 0.42980002],\n",
       "       [0.69880251, 0.30119749],\n",
       "       [0.67388575, 0.32611425],\n",
       "       [0.69789709, 0.30210291],\n",
       "       [0.68035907, 0.31964093],\n",
       "       [0.68413711, 0.31586289],\n",
       "       [0.70932385, 0.29067615],\n",
       "       [0.70144649, 0.29855351],\n",
       "       [0.68724111, 0.31275889],\n",
       "       [0.61872917, 0.38127083],\n",
       "       [0.64084122, 0.35915878],\n",
       "       [0.62430716, 0.37569284],\n",
       "       [0.69642586, 0.30357414],\n",
       "       [0.70210047, 0.29789953],\n",
       "       [0.68564002, 0.31435998],\n",
       "       [0.6855378 , 0.3144622 ],\n",
       "       [0.58735922, 0.41264078],\n",
       "       [0.67832965, 0.32167035],\n",
       "       [0.68412999, 0.31587001],\n",
       "       [0.6438001 , 0.3561999 ],\n",
       "       [0.702592  , 0.297408  ],\n",
       "       [0.67328078, 0.32671922],\n",
       "       [0.68339341, 0.31660659],\n",
       "       [0.7036409 , 0.2963591 ],\n",
       "       [0.68549102, 0.31450898],\n",
       "       [0.68411787, 0.31588213],\n",
       "       [0.53101277, 0.46898723],\n",
       "       [0.71144112, 0.28855888],\n",
       "       [0.69195587, 0.30804413],\n",
       "       [0.68456394, 0.31543606],\n",
       "       [0.68487517, 0.31512483],\n",
       "       [0.60627556, 0.39372444],\n",
       "       [0.70961979, 0.29038021],\n",
       "       [0.70580705, 0.29419295],\n",
       "       [0.61193024, 0.38806976],\n",
       "       [0.69349166, 0.30650834],\n",
       "       [0.63671543, 0.36328457],\n",
       "       [0.69391402, 0.30608598],\n",
       "       [0.68439871, 0.31560129],\n",
       "       [0.69239065, 0.30760935],\n",
       "       [0.66572476, 0.33427524],\n",
       "       [0.68977449, 0.31022551],\n",
       "       [0.68339684, 0.31660316],\n",
       "       [0.6837385 , 0.3162615 ],\n",
       "       [0.64375488, 0.35624512],\n",
       "       [0.69665602, 0.30334398],\n",
       "       [0.70164079, 0.29835921],\n",
       "       [0.57066815, 0.42933185],\n",
       "       [0.61560146, 0.38439854],\n",
       "       [0.67557707, 0.32442293],\n",
       "       [0.70374638, 0.29625362],\n",
       "       [0.68059195, 0.31940805],\n",
       "       [0.68221856, 0.31778144],\n",
       "       [0.70467998, 0.29532002],\n",
       "       [0.68661463, 0.31338537],\n",
       "       [0.6757612 , 0.3242388 ],\n",
       "       [0.69627665, 0.30372335],\n",
       "       [0.63451615, 0.36548385],\n",
       "       [0.609277  , 0.390723  ],\n",
       "       [0.6926263 , 0.3073737 ],\n",
       "       [0.64249064, 0.35750936],\n",
       "       [0.68435113, 0.31564887],\n",
       "       [0.6920121 , 0.3079879 ],\n",
       "       [0.59106374, 0.40893626],\n",
       "       [0.70403601, 0.29596399],\n",
       "       [0.68784978, 0.31215022],\n",
       "       [0.7080591 , 0.2919409 ],\n",
       "       [0.68840984, 0.31159016],\n",
       "       [0.68825576, 0.31174424],\n",
       "       [0.68772246, 0.31227754],\n",
       "       [0.62214991, 0.37785009],\n",
       "       [0.67714373, 0.32285627],\n",
       "       [0.69087589, 0.30912411],\n",
       "       [0.69019235, 0.30980765],\n",
       "       [0.69741715, 0.30258285],\n",
       "       [0.7048087 , 0.2951913 ],\n",
       "       [0.69267853, 0.30732147],\n",
       "       [0.68704858, 0.31295142],\n",
       "       [0.6679197 , 0.3320803 ],\n",
       "       [0.70149386, 0.29850614],\n",
       "       [0.70127797, 0.29872203],\n",
       "       [0.70013773, 0.29986227],\n",
       "       [0.67433258, 0.32566742],\n",
       "       [0.61242268, 0.38757732],\n",
       "       [0.63121822, 0.36878178],\n",
       "       [0.70131872, 0.29868128],\n",
       "       [0.68989133, 0.31010867],\n",
       "       [0.68445227, 0.31554773],\n",
       "       [0.6898672 , 0.3101328 ],\n",
       "       [0.69357745, 0.30642255],\n",
       "       [0.56742668, 0.43257332],\n",
       "       [0.68393385, 0.31606615],\n",
       "       [0.63604272, 0.36395728],\n",
       "       [0.68908268, 0.31091732],\n",
       "       [0.69825739, 0.30174261],\n",
       "       [0.66168404, 0.33831596],\n",
       "       [0.69052943, 0.30947057],\n",
       "       [0.69137287, 0.30862713],\n",
       "       [0.67609044, 0.32390956],\n",
       "       [0.69823974, 0.30176026],\n",
       "       [0.67457137, 0.32542863],\n",
       "       [0.61872917, 0.38127083],\n",
       "       [0.67011873, 0.32988127],\n",
       "       [0.6715065 , 0.3284935 ],\n",
       "       [0.56315623, 0.43684377],\n",
       "       [0.67871764, 0.32128236]])"
      ]
     },
     "execution_count": 114,
     "metadata": {},
     "output_type": "execute_result"
    }
   ],
   "source": [
    "model.predict_proba(test_x)"
   ]
  },
  {
   "cell_type": "code",
   "execution_count": 128,
   "id": "12dffc52",
   "metadata": {},
   "outputs": [],
   "source": [
    "from sklearn.metrics import confusion_matrix"
   ]
  },
  {
   "cell_type": "code",
   "execution_count": 131,
   "id": "253fa7cd",
   "metadata": {},
   "outputs": [
    {
     "ename": "NameError",
     "evalue": "name 'confusion' is not defined",
     "output_type": "error",
     "traceback": [
      "\u001b[1;31m---------------------------------------------------------------------------\u001b[0m",
      "\u001b[1;31mNameError\u001b[0m                                 Traceback (most recent call last)",
      "\u001b[1;32mC:\\Users\\WIN10~1\\AppData\\Local\\Temp/ipykernel_9828/1930289800.py\u001b[0m in \u001b[0;36m<module>\u001b[1;34m\u001b[0m\n\u001b[1;32m----> 1\u001b[1;33m \u001b[0mconfusion\u001b[0m\u001b[1;33m.\u001b[0m\u001b[0mmatrix\u001b[0m\u001b[1;33m=\u001b[0m\u001b[0mmetrics\u001b[0m\u001b[1;33m.\u001b[0m\u001b[0mconfusion_matrix\u001b[0m\u001b[1;33m(\u001b[0m\u001b[0mtest_y\u001b[0m\u001b[1;33m,\u001b[0m\u001b[0mpredicted_value\u001b[0m\u001b[1;33m)\u001b[0m\u001b[1;33m\u001b[0m\u001b[1;33m\u001b[0m\u001b[0m\n\u001b[0m\u001b[0;32m      2\u001b[0m \u001b[0mconfusion_matrix\u001b[0m\u001b[1;33m\u001b[0m\u001b[1;33m\u001b[0m\u001b[0m\n",
      "\u001b[1;31mNameError\u001b[0m: name 'confusion' is not defined"
     ]
    }
   ],
   "source": [
    "confusion.matrix=metrics.confusion_matrix(test_y,predicted_value)\n",
    "confusion_matrix"
   ]
  },
  {
   "cell_type": "code",
   "execution_count": 119,
   "id": "16c139d5",
   "metadata": {},
   "outputs": [
    {
     "name": "stdout",
     "output_type": "stream",
     "text": [
      "[2 2 2 2 2 2 2 2 2 2 2 2 2 2 2 2 2 2 2 2 2 2 2 2 2 2 2 2 2 2 2 2 2 2 2 2 2\n",
      " 2 2 2 2 2 2 2 2 2 2 2 2 2 2 2 2 2 2 2 2 2 2 2 2 2 2 2 2 2 2 2 2 2 2 2 2 2\n",
      " 2 2 2 2 2 2 2 2 2 2 2 2 2 2 2 2 2 2 2 2 2 2 2 2 2 2 2 2 2 2 2 2 2 2 2 2 2\n",
      " 2 2 2 2 2 2 2 2 2 2 2 2 2 2 2 2 2 2 2 2 2 2 2 2 2 2 2 2 2]\n"
     ]
    }
   ],
   "source": [
    "predicted_value=model.predict(test_x)\n",
    "print(predicted_value)"
   ]
  },
  {
   "cell_type": "code",
   "execution_count": 120,
   "id": "89c8ad12",
   "metadata": {},
   "outputs": [
    {
     "name": "stdout",
     "output_type": "stream",
     "text": [
      "[[0.69300541 0.30699459]\n",
      " [0.6867876  0.3132124 ]\n",
      " [0.6821831  0.3178169 ]\n",
      " [0.55619062 0.44380938]\n",
      " [0.69177562 0.30822438]\n",
      " [0.68485439 0.31514561]\n",
      " [0.68827062 0.31172938]\n",
      " [0.69002691 0.30997309]\n",
      " [0.68393399 0.31606601]\n",
      " [0.68774937 0.31225063]\n",
      " [0.70075781 0.29924219]\n",
      " [0.59140515 0.40859485]\n",
      " [0.67502191 0.32497809]\n",
      " [0.70550418 0.29449582]\n",
      " [0.66827624 0.33172376]\n",
      " [0.69938063 0.30061937]\n",
      " [0.70428674 0.29571326]\n",
      " [0.69122185 0.30877815]\n",
      " [0.70487291 0.29512709]\n",
      " [0.61266013 0.38733987]\n",
      " [0.69025017 0.30974983]\n",
      " [0.67614157 0.32385843]\n",
      " [0.69400422 0.30599578]\n",
      " [0.7064247  0.2935753 ]\n",
      " [0.70211013 0.29788987]\n",
      " [0.63801402 0.36198598]\n",
      " [0.69361697 0.30638303]\n",
      " [0.62423693 0.37576307]\n",
      " [0.66719388 0.33280612]\n",
      " [0.66827624 0.33172376]\n",
      " [0.66891674 0.33108326]\n",
      " [0.7019018  0.2980982 ]\n",
      " [0.71152438 0.28847562]\n",
      " [0.6962362  0.3037638 ]\n",
      " [0.57019998 0.42980002]\n",
      " [0.69880251 0.30119749]\n",
      " [0.67388575 0.32611425]\n",
      " [0.69789709 0.30210291]\n",
      " [0.68035907 0.31964093]\n",
      " [0.68413711 0.31586289]\n",
      " [0.70932385 0.29067615]\n",
      " [0.70144649 0.29855351]\n",
      " [0.68724111 0.31275889]\n",
      " [0.61872917 0.38127083]\n",
      " [0.64084122 0.35915878]\n",
      " [0.62430716 0.37569284]\n",
      " [0.69642586 0.30357414]\n",
      " [0.70210047 0.29789953]\n",
      " [0.68564002 0.31435998]\n",
      " [0.6855378  0.3144622 ]\n",
      " [0.58735922 0.41264078]\n",
      " [0.67832965 0.32167035]\n",
      " [0.68412999 0.31587001]\n",
      " [0.6438001  0.3561999 ]\n",
      " [0.702592   0.297408  ]\n",
      " [0.67328078 0.32671922]\n",
      " [0.68339341 0.31660659]\n",
      " [0.7036409  0.2963591 ]\n",
      " [0.68549102 0.31450898]\n",
      " [0.68411787 0.31588213]\n",
      " [0.53101277 0.46898723]\n",
      " [0.71144112 0.28855888]\n",
      " [0.69195587 0.30804413]\n",
      " [0.68456394 0.31543606]\n",
      " [0.68487517 0.31512483]\n",
      " [0.60627556 0.39372444]\n",
      " [0.70961979 0.29038021]\n",
      " [0.70580705 0.29419295]\n",
      " [0.61193024 0.38806976]\n",
      " [0.69349166 0.30650834]\n",
      " [0.63671543 0.36328457]\n",
      " [0.69391402 0.30608598]\n",
      " [0.68439871 0.31560129]\n",
      " [0.69239065 0.30760935]\n",
      " [0.66572476 0.33427524]\n",
      " [0.68977449 0.31022551]\n",
      " [0.68339684 0.31660316]\n",
      " [0.6837385  0.3162615 ]\n",
      " [0.64375488 0.35624512]\n",
      " [0.69665602 0.30334398]\n",
      " [0.70164079 0.29835921]\n",
      " [0.57066815 0.42933185]\n",
      " [0.61560146 0.38439854]\n",
      " [0.67557707 0.32442293]\n",
      " [0.70374638 0.29625362]\n",
      " [0.68059195 0.31940805]\n",
      " [0.68221856 0.31778144]\n",
      " [0.70467998 0.29532002]\n",
      " [0.68661463 0.31338537]\n",
      " [0.6757612  0.3242388 ]\n",
      " [0.69627665 0.30372335]\n",
      " [0.63451615 0.36548385]\n",
      " [0.609277   0.390723  ]\n",
      " [0.6926263  0.3073737 ]\n",
      " [0.64249064 0.35750936]\n",
      " [0.68435113 0.31564887]\n",
      " [0.6920121  0.3079879 ]\n",
      " [0.59106374 0.40893626]\n",
      " [0.70403601 0.29596399]\n",
      " [0.68784978 0.31215022]\n",
      " [0.7080591  0.2919409 ]\n",
      " [0.68840984 0.31159016]\n",
      " [0.68825576 0.31174424]\n",
      " [0.68772246 0.31227754]\n",
      " [0.62214991 0.37785009]\n",
      " [0.67714373 0.32285627]\n",
      " [0.69087589 0.30912411]\n",
      " [0.69019235 0.30980765]\n",
      " [0.69741715 0.30258285]\n",
      " [0.7048087  0.2951913 ]\n",
      " [0.69267853 0.30732147]\n",
      " [0.68704858 0.31295142]\n",
      " [0.6679197  0.3320803 ]\n",
      " [0.70149386 0.29850614]\n",
      " [0.70127797 0.29872203]\n",
      " [0.70013773 0.29986227]\n",
      " [0.67433258 0.32566742]\n",
      " [0.61242268 0.38757732]\n",
      " [0.63121822 0.36878178]\n",
      " [0.70131872 0.29868128]\n",
      " [0.68989133 0.31010867]\n",
      " [0.68445227 0.31554773]\n",
      " [0.6898672  0.3101328 ]\n",
      " [0.69357745 0.30642255]\n",
      " [0.56742668 0.43257332]\n",
      " [0.68393385 0.31606615]\n",
      " [0.63604272 0.36395728]\n",
      " [0.68908268 0.31091732]\n",
      " [0.69825739 0.30174261]\n",
      " [0.66168404 0.33831596]\n",
      " [0.69052943 0.30947057]\n",
      " [0.69137287 0.30862713]\n",
      " [0.67609044 0.32390956]\n",
      " [0.69823974 0.30176026]\n",
      " [0.67457137 0.32542863]\n",
      " [0.61872917 0.38127083]\n",
      " [0.67011873 0.32988127]\n",
      " [0.6715065  0.3284935 ]\n",
      " [0.56315623 0.43684377]\n",
      " [0.67871764 0.32128236]]\n"
     ]
    }
   ],
   "source": [
    "probability=model.predict_proba(test_x)\n",
    "print(probability)"
   ]
  },
  {
   "cell_type": "code",
   "execution_count": null,
   "id": "aa143d26",
   "metadata": {},
   "outputs": [],
   "source": []
  }
 ],
 "metadata": {
  "kernelspec": {
   "display_name": "Python 3 (ipykernel)",
   "language": "python",
   "name": "python3"
  },
  "language_info": {
   "codemirror_mode": {
    "name": "ipython",
    "version": 3
   },
   "file_extension": ".py",
   "mimetype": "text/x-python",
   "name": "python",
   "nbconvert_exporter": "python",
   "pygments_lexer": "ipython3",
   "version": "3.9.7"
  }
 },
 "nbformat": 4,
 "nbformat_minor": 5
}
